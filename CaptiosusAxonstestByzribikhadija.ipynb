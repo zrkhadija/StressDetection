{
 "cells": [
  {
   "cell_type": "markdown",
   "id": "da292d29",
   "metadata": {},
   "source": [
    "# Importing Libraries"
   ]
  },
  {
   "cell_type": "code",
   "execution_count": 12,
   "id": "d8f23e15",
   "metadata": {
    "scrolled": false
   },
   "outputs": [
    {
     "name": "stdout",
     "output_type": "stream",
     "text": [
      "Requirement already satisfied: numpy in c:\\users\\khadija\\anaconda\\lib\\site-packages (1.20.0)\n",
      "Collecting numpy\n",
      "  Downloading numpy-1.26.2-cp39-cp39-win_amd64.whl (15.8 MB)\n",
      "Installing collected packages: numpy\n",
      "  Attempting uninstall: numpy\n",
      "    Found existing installation: numpy 1.20.0\n",
      "    Uninstalling numpy-1.20.0:\n",
      "      Successfully uninstalled numpy-1.20.0\n",
      "Successfully installed numpy-1.26.2\n",
      "Note: you may need to restart the kernel to use updated packages.\n"
     ]
    },
    {
     "name": "stderr",
     "output_type": "stream",
     "text": [
      "WARNING: Ignoring invalid distribution -rotobuf (c:\\users\\khadija\\appdata\\roaming\\python\\python39\\site-packages)\n",
      "WARNING: Ignoring invalid distribution -rotobuf (c:\\users\\khadija\\appdata\\roaming\\python\\python39\\site-packages)\n",
      "WARNING: Ignoring invalid distribution -rotobuf (c:\\users\\khadija\\appdata\\roaming\\python\\python39\\site-packages)\n",
      "    WARNING: Ignoring invalid distribution -rotobuf (c:\\users\\khadija\\appdata\\roaming\\python\\python39\\site-packages)\n",
      "WARNING: Ignoring invalid distribution -rotobuf (c:\\users\\khadija\\anaconda\\lib\\site-packages)\n",
      "ERROR: pip's dependency resolver does not currently take into account all the packages that are installed. This behaviour is the source of the following dependency conflicts.\n",
      "daal4py 2021.3.0 requires daal==2021.2.3, which is not installed.\n",
      "tensorflow-intel 2.11.0 requires protobuf<3.20,>=3.9.2, but you have protobuf 3.20.0 which is incompatible.\n",
      "scipy 1.7.1 requires numpy<1.23.0,>=1.16.5, but you have numpy 1.26.2 which is incompatible.\n",
      "numba 0.54.1 requires numpy<1.21,>=1.17, but you have numpy 1.26.2 which is incompatible.\n",
      "WARNING: Ignoring invalid distribution -rotobuf (c:\\users\\khadija\\appdata\\roaming\\python\\python39\\site-packages)\n",
      "WARNING: Ignoring invalid distribution -rotobuf (c:\\users\\khadija\\appdata\\roaming\\python\\python39\\site-packages)\n",
      "WARNING: Ignoring invalid distribution -rotobuf (c:\\users\\khadija\\appdata\\roaming\\python\\python39\\site-packages)\n"
     ]
    }
   ],
   "source": [
    "pip install --upgrade numpy"
   ]
  },
  {
   "cell_type": "code",
   "execution_count": 3,
   "id": "10229094",
   "metadata": {},
   "outputs": [],
   "source": [
    "from pytube import YouTube"
   ]
  },
  {
   "cell_type": "code",
   "execution_count": 4,
   "id": "956a3b41",
   "metadata": {},
   "outputs": [
    {
     "name": "stdout",
     "output_type": "stream",
     "text": [
      "Requirement already satisfied: mediapipe in c:\\users\\khadija\\appdata\\roaming\\python\\python39\\site-packages (0.10.8)Note: you may need to restart the kernel to use updated packages.\n"
     ]
    },
    {
     "name": "stderr",
     "output_type": "stream",
     "text": [
      "WARNING: Ignoring invalid distribution -rotobuf (c:\\users\\khadija\\appdata\\roaming\\python\\python39\\site-packages)"
     ]
    },
    {
     "name": "stdout",
     "output_type": "stream",
     "text": [
      "\n",
      "Requirement already satisfied: numpy in c:\\users\\khadija\\anaconda\\lib\\site-packages (from mediapipe) (1.20.0)\n",
      "Requirement already satisfied: absl-py in c:\\users\\khadija\\anaconda\\lib\\site-packages (from mediapipe) (1.4.0)\n",
      "Requirement already satisfied: sounddevice>=0.4.4 in c:\\users\\khadija\\anaconda\\lib\\site-packages (from mediapipe) (0.4.6)\n",
      "Requirement already satisfied: flatbuffers>=2.0 in c:\\users\\khadija\\anaconda\\lib\\site-packages (from mediapipe) (23.1.21)\n",
      "Requirement already satisfied: protobuf<4,>=3.11 in c:\\users\\khadija\\anaconda\\lib\\site-packages (from mediapipe) (3.20.0)\n",
      "Requirement already satisfied: matplotlib in c:\\users\\khadija\\anaconda\\lib\\site-packages (from mediapipe) (3.4.3)\n",
      "Requirement already satisfied: attrs>=19.1.0 in c:\\users\\khadija\\anaconda\\lib\\site-packages (from mediapipe) (21.2.0)\n",
      "Requirement already satisfied: opencv-contrib-python in c:\\users\\khadija\\appdata\\roaming\\python\\python39\\site-packages (from mediapipe) (4.8.1.78)\n",
      "Requirement already satisfied: CFFI>=1.0 in c:\\users\\khadija\\anaconda\\lib\\site-packages (from sounddevice>=0.4.4->mediapipe) (1.14.6)\n",
      "Requirement already satisfied: pycparser in c:\\users\\khadija\\anaconda\\lib\\site-packages (from CFFI>=1.0->sounddevice>=0.4.4->mediapipe) (2.20)\n",
      "Requirement already satisfied: python-dateutil>=2.7 in c:\\users\\khadija\\anaconda\\lib\\site-packages (from matplotlib->mediapipe) (2.8.2)\n",
      "Requirement already satisfied: kiwisolver>=1.0.1 in c:\\users\\khadija\\anaconda\\lib\\site-packages (from matplotlib->mediapipe) (1.3.1)\n",
      "Requirement already satisfied: pillow>=6.2.0 in c:\\users\\khadija\\anaconda\\lib\\site-packages (from matplotlib->mediapipe) (10.0.1)\n",
      "Requirement already satisfied: pyparsing>=2.2.1 in c:\\users\\khadija\\anaconda\\lib\\site-packages (from matplotlib->mediapipe) (3.0.4)\n",
      "Requirement already satisfied: cycler>=0.10 in c:\\users\\khadija\\anaconda\\lib\\site-packages (from matplotlib->mediapipe) (0.10.0)\n",
      "Requirement already satisfied: six in c:\\users\\khadija\\anaconda\\lib\\site-packages (from cycler>=0.10->matplotlib->mediapipe) (1.16.0)\n"
     ]
    },
    {
     "name": "stderr",
     "output_type": "stream",
     "text": [
      "\n",
      "WARNING: Ignoring invalid distribution -rotobuf (c:\\users\\khadija\\appdata\\roaming\\python\\python39\\site-packages)\n",
      "WARNING: Ignoring invalid distribution -rotobuf (c:\\users\\khadija\\appdata\\roaming\\python\\python39\\site-packages)\n",
      "WARNING: Ignoring invalid distribution -rotobuf (c:\\users\\khadija\\appdata\\roaming\\python\\python39\\site-packages)\n",
      "WARNING: Ignoring invalid distribution -rotobuf (c:\\users\\khadija\\appdata\\roaming\\python\\python39\\site-packages)\n",
      "WARNING: Ignoring invalid distribution -rotobuf (c:\\users\\khadija\\appdata\\roaming\\python\\python39\\site-packages)\n"
     ]
    }
   ],
   "source": [
    "pip install mediapipe"
   ]
  },
  {
   "cell_type": "code",
   "execution_count": 5,
   "id": "a989bf22",
   "metadata": {},
   "outputs": [
    {
     "name": "stdout",
     "output_type": "stream",
     "text": [
      "Requirement already satisfied: mediapipe in c:\\users\\khadija\\appdata\\roaming\\python\\python39\\site-packages (0.10.8)\n",
      "Requirement already satisfied: protobuf<4,>=3.11 in c:\\users\\khadija\\anaconda\\lib\\site-packages (from mediapipe) (3.20.0)\n",
      "Requirement already satisfied: attrs>=19.1.0 in c:\\users\\khadija\\anaconda\\lib\\site-packages (from mediapipe) (21.2.0)\n",
      "Requirement already satisfied: numpy in c:\\users\\khadija\\anaconda\\lib\\site-packages (from mediapipe) (1.20.0)\n",
      "Requirement already satisfied: opencv-contrib-python in c:\\users\\khadija\\appdata\\roaming\\python\\python39\\site-packages (from mediapipe) (4.8.1.78)\n",
      "Requirement already satisfied: matplotlib in c:\\users\\khadija\\anaconda\\lib\\site-packages (from mediapipe) (3.4.3)\n",
      "Requirement already satisfied: flatbuffers>=2.0 in c:\\users\\khadija\\anaconda\\lib\\site-packages (from mediapipe) (23.1.21)\n",
      "Requirement already satisfied: absl-py in c:\\users\\khadija\\anaconda\\lib\\site-packages (from mediapipe) (1.4.0)\n",
      "Requirement already satisfied: sounddevice>=0.4.4 in c:\\users\\khadija\\anaconda\\lib\\site-packages (from mediapipe) (0.4.6)\n",
      "Requirement already satisfied: CFFI>=1.0 in c:\\users\\khadija\\anaconda\\lib\\site-packages (from sounddevice>=0.4.4->mediapipe) (1.14.6)\n",
      "Requirement already satisfied: pycparser in c:\\users\\khadija\\anaconda\\lib\\site-packages (from CFFI>=1.0->sounddevice>=0.4.4->mediapipe) (2.20)\n",
      "Requirement already satisfied: pillow>=6.2.0 in c:\\users\\khadija\\anaconda\\lib\\site-packages (from matplotlib->mediapipe) (10.0.1)\n",
      "Requirement already satisfied: cycler>=0.10 in c:\\users\\khadija\\anaconda\\lib\\site-packages (from matplotlib->mediapipe) (0.10.0)\n",
      "Requirement already satisfied: kiwisolver>=1.0.1 in c:\\users\\khadija\\anaconda\\lib\\site-packages (from matplotlib->mediapipe) (1.3.1)\n",
      "Requirement already satisfied: pyparsing>=2.2.1 in c:\\users\\khadija\\anaconda\\lib\\site-packages (from matplotlib->mediapipe) (3.0.4)\n",
      "Requirement already satisfied: python-dateutil>=2.7 in c:\\users\\khadija\\anaconda\\lib\\site-packages (from matplotlib->mediapipe) (2.8.2)\n",
      "Requirement already satisfied: six in c:\\users\\khadija\\anaconda\\lib\\site-packages (from cycler>=0.10->matplotlib->mediapipe) (1.16.0)\n",
      "Note: you may need to restart the kernel to use updated packages.\n"
     ]
    },
    {
     "name": "stderr",
     "output_type": "stream",
     "text": [
      "WARNING: Ignoring invalid distribution -rotobuf (c:\\users\\khadija\\appdata\\roaming\\python\\python39\\site-packages)\n",
      "WARNING: Ignoring invalid distribution -rotobuf (c:\\users\\khadija\\appdata\\roaming\\python\\python39\\site-packages)\n",
      "WARNING: Ignoring invalid distribution -rotobuf (c:\\users\\khadija\\appdata\\roaming\\python\\python39\\site-packages)\n",
      "WARNING: Ignoring invalid distribution -rotobuf (c:\\users\\khadija\\appdata\\roaming\\python\\python39\\site-packages)\n",
      "WARNING: Ignoring invalid distribution -rotobuf (c:\\users\\khadija\\appdata\\roaming\\python\\python39\\site-packages)\n",
      "WARNING: Ignoring invalid distribution -rotobuf (c:\\users\\khadija\\appdata\\roaming\\python\\python39\\site-packages)\n"
     ]
    }
   ],
   "source": [
    "pip install --user mediapipe"
   ]
  },
  {
   "cell_type": "code",
   "execution_count": 6,
   "id": "d2affd40",
   "metadata": {
    "scrolled": true
   },
   "outputs": [
    {
     "name": "stdout",
     "output_type": "stream",
     "text": [
      "Requirement already satisfied: numpy==1.20.0 in c:\\users\\khadija\\anaconda\\lib\\site-packages (1.20.0)\n",
      "Note: you may need to restart the kernel to use updated packages.\n"
     ]
    },
    {
     "name": "stderr",
     "output_type": "stream",
     "text": [
      "WARNING: Ignoring invalid distribution -rotobuf (c:\\users\\khadija\\appdata\\roaming\\python\\python39\\site-packages)\n",
      "WARNING: Ignoring invalid distribution -rotobuf (c:\\users\\khadija\\appdata\\roaming\\python\\python39\\site-packages)\n",
      "WARNING: Ignoring invalid distribution -rotobuf (c:\\users\\khadija\\appdata\\roaming\\python\\python39\\site-packages)\n",
      "WARNING: Ignoring invalid distribution -rotobuf (c:\\users\\khadija\\appdata\\roaming\\python\\python39\\site-packages)\n",
      "WARNING: Ignoring invalid distribution -rotobuf (c:\\users\\khadija\\appdata\\roaming\\python\\python39\\site-packages)\n",
      "WARNING: Ignoring invalid distribution -rotobuf (c:\\users\\khadija\\appdata\\roaming\\python\\python39\\site-packages)\n"
     ]
    }
   ],
   "source": [
    "pip install numpy==1.20.0"
   ]
  },
  {
   "cell_type": "code",
   "execution_count": 7,
   "id": "7e39281a",
   "metadata": {},
   "outputs": [
    {
     "name": "stdout",
     "output_type": "stream",
     "text": [
      "Note: you may need to restart the kernel to use updated packages.\n"
     ]
    },
    {
     "name": "stderr",
     "output_type": "stream",
     "text": [
      "WARNING: Ignoring invalid distribution -rotobuf (c:\\users\\khadija\\appdata\\roaming\\python\\python39\\site-packages)\n",
      "WARNING: Ignoring invalid distribution -rotobuf (c:\\users\\khadija\\appdata\\roaming\\python\\python39\\site-packages)\n",
      "ERROR: Could not find a version that satisfies the requirement google.protobuf (from versions: none)\n",
      "ERROR: No matching distribution found for google.protobuf\n",
      "WARNING: Ignoring invalid distribution -rotobuf (c:\\users\\khadija\\appdata\\roaming\\python\\python39\\site-packages)\n",
      "WARNING: Ignoring invalid distribution -rotobuf (c:\\users\\khadija\\appdata\\roaming\\python\\python39\\site-packages)\n",
      "WARNING: Ignoring invalid distribution -rotobuf (c:\\users\\khadija\\appdata\\roaming\\python\\python39\\site-packages)\n"
     ]
    }
   ],
   "source": [
    "pip install --upgrade google.protobuf"
   ]
  },
  {
   "cell_type": "markdown",
   "id": "8507a770",
   "metadata": {},
   "source": [
    "# Importing Test Video "
   ]
  },
  {
   "cell_type": "code",
   "execution_count": 39,
   "id": "473ad9f0",
   "metadata": {},
   "outputs": [],
   "source": [
    "# Function to download a video\n",
    "def download_video(url, save_path):\n",
    "    yt = YouTube(url)\n",
    "    yt.streams.filter(file_extension='mp4').first().download(save_path)\n",
    "\n",
    "# Example usage\n",
    "video_url = \"https://www.youtube.com/watch?v=dQw4w9WgXcQ\"\n",
    "save_path = \"C:/Users/Khadija/OneDrive/Desktop/testt/\"\n",
    "download_video(video_url, save_path)"
   ]
  },
  {
   "cell_type": "code",
   "execution_count": 40,
   "id": "0209044d",
   "metadata": {},
   "outputs": [
    {
     "data": {
      "text/plain": [
       "'C:/Users/Khadija/OneDrive/Desktop/testt/'"
      ]
     },
     "execution_count": 40,
     "metadata": {},
     "output_type": "execute_result"
    }
   ],
   "source": [
    "save_path"
   ]
  },
  {
   "cell_type": "markdown",
   "id": "2b7733e6",
   "metadata": {},
   "source": [
    "# Stress Detection Model"
   ]
  },
  {
   "cell_type": "code",
   "execution_count": 13,
   "id": "1be19b78",
   "metadata": {},
   "outputs": [
    {
     "name": "stdout",
     "output_type": "stream",
     "text": [
      "Requirement already satisfied: protobuf in c:\\users\\khadija\\anaconda\\lib\\site-packages (3.20.0)\n",
      "Collecting protobuf\n",
      "  Using cached protobuf-4.25.1-cp39-cp39-win_amd64.whl (413 kB)\n",
      "Installing collected packages: protobuf\n",
      "Successfully installed protobuf-4.25.1\n",
      "Note: you may need to restart the kernel to use updated packages.\n"
     ]
    },
    {
     "name": "stderr",
     "output_type": "stream",
     "text": [
      "WARNING: Ignoring invalid distribution -rotobuf (c:\\users\\khadija\\appdata\\roaming\\python\\python39\\site-packages)\n",
      "WARNING: Ignoring invalid distribution -rotobuf (c:\\users\\khadija\\appdata\\roaming\\python\\python39\\site-packages)\n",
      "WARNING: Ignoring invalid distribution -rotobuf (c:\\users\\khadija\\appdata\\roaming\\python\\python39\\site-packages)\n",
      "WARNING: Ignoring invalid distribution -rotobuf (c:\\users\\khadija\\appdata\\roaming\\python\\python39\\site-packages)\n",
      "ERROR: pip's dependency resolver does not currently take into account all the packages that are installed. This behaviour is the source of the following dependency conflicts.\n",
      "mediapipe 0.10.8 requires protobuf<4,>=3.11, but you have protobuf 4.25.1 which is incompatible.\n",
      "tensorflow-intel 2.11.0 requires protobuf<3.20,>=3.9.2, but you have protobuf 4.25.1 which is incompatible.\n",
      "tensorboard 2.11.2 requires protobuf<4,>=3.9.2, but you have protobuf 4.25.1 which is incompatible.\n",
      "WARNING: Ignoring invalid distribution -rotobuf (c:\\users\\khadija\\appdata\\roaming\\python\\python39\\site-packages)\n",
      "WARNING: Ignoring invalid distribution -rotobuf (c:\\users\\khadija\\appdata\\roaming\\python\\python39\\site-packages)\n",
      "WARNING: Ignoring invalid distribution -rotobuf (c:\\users\\khadija\\appdata\\roaming\\python\\python39\\site-packages)\n"
     ]
    }
   ],
   "source": [
    "pip install --user --upgrade protobuf"
   ]
  },
  {
   "cell_type": "code",
   "execution_count": 14,
   "id": "48f36a1b",
   "metadata": {
    "scrolled": true
   },
   "outputs": [
    {
     "name": "stdout",
     "output_type": "stream",
     "text": [
      "Collecting protobuf==3.20.0\n",
      "  Using cached protobuf-3.20.0-cp39-cp39-win_amd64.whl (904 kB)\n",
      "Installing collected packages: protobuf\n",
      "Note: you may need to restart the kernel to use updated packages.\n"
     ]
    },
    {
     "name": "stderr",
     "output_type": "stream",
     "text": [
      "WARNING: Ignoring invalid distribution -rotobuf (c:\\users\\khadija\\appdata\\roaming\\python\\python39\\site-packages)\n",
      "WARNING: Ignoring invalid distribution -rotobuf (c:\\users\\khadija\\appdata\\roaming\\python\\python39\\site-packages)\n",
      "WARNING: Ignoring invalid distribution -rotobuf (c:\\users\\khadija\\appdata\\roaming\\python\\python39\\site-packages)\n",
      "    WARNING: Ignoring invalid distribution -rotobuf (c:\\users\\khadija\\appdata\\roaming\\python\\python39\\site-packages)\n",
      "WARNING: Ignoring invalid distribution -rotobuf (c:\\users\\khadija\\anaconda\\lib\\site-packages)\n",
      "ERROR: pip's dependency resolver does not currently take into account all the packages that are installed. This behaviour is the source of the following dependency conflicts.\n",
      "tensorflow-intel 2.11.0 requires protobuf<3.20,>=3.9.2, but you have protobuf 3.20.0 which is incompatible.\n",
      "WARNING: Ignoring invalid distribution -rotobuf (c:\\users\\khadija\\appdata\\roaming\\python\\python39\\site-packages)\n",
      "WARNING: Ignoring invalid distribution -rotobuf (c:\\users\\khadija\\appdata\\roaming\\python\\python39\\site-packages)\n",
      "WARNING: Ignoring invalid distribution -rotobuf (c:\\users\\khadija\\appdata\\roaming\\python\\python39\\site-packages)\n"
     ]
    },
    {
     "name": "stdout",
     "output_type": "stream",
     "text": [
      "  Attempting uninstall: protobuf\n",
      "    Found existing installation: protobuf 4.25.1\n",
      "    Uninstalling protobuf-4.25.1:\n",
      "      Successfully uninstalled protobuf-4.25.1\n",
      "Successfully installed protobuf-3.20.0\n"
     ]
    }
   ],
   "source": [
    "pip install protobuf==3.20.0\n"
   ]
  },
  {
   "cell_type": "markdown",
   "id": "eba159e0",
   "metadata": {},
   "source": [
    "# mediapipe Library"
   ]
  },
  {
   "cell_type": "code",
   "execution_count": 27,
   "id": "e9ea8e97",
   "metadata": {},
   "outputs": [
    {
     "data": {
      "image/png": "[encoded data removed]",
      "text/plain": [
       "<Figure size 432x288 with 1 Axes>"
      ]
     },
     "metadata": {
      "needs_background": "light"
     },
     "output_type": "display_data"
    }
   ],
   "source": [
    "import cv2\n",
    "import mediapipe as mp\n",
    "import numpy as np\n",
    "import matplotlib.pyplot as plt\n",
    "from pytube import YouTube\n",
    "\n",
    "# Function to download a video\n",
    "def download_video(url, save_path):\n",
    "    yt = YouTube(url)\n",
    "    yt.streams.filter(file_extension='mp4').first().download(save_path)\n",
    "\n",
    "# Function to calculate stress level based on facial landmarks\n",
    "def calculate_stress(landmarks):\n",
    "    # You can customize this function based on your stress detection algorithm\n",
    "    # Example: Calculate stress based on the distance between specific facial landmarks\n",
    "    distance_between_eyes = np.linalg.norm(landmarks[0] - landmarks[1])\n",
    "    stress = distance_between_eyes * 0.1  # Placeholder algorithm, replace with your logic\n",
    "    return stress\n",
    "\n",
    "# Main function\n",
    "def stress_detection(video_path):\n",
    "    cap = cv2.VideoCapture(video_path)\n",
    "\n",
    "    mp_face = mp.solutions.face_detection\n",
    "    mp_drawing = mp.solutions.drawing_utils\n",
    "\n",
    "    face_detection = mp_face.FaceDetection(min_detection_confidence=0.3)\n",
    "\n",
    "    stress_levels = []\n",
    "\n",
    "    while True:\n",
    "        ret, frame = cap.read()\n",
    "        if not ret:\n",
    "            break\n",
    "\n",
    "        # Convert the BGR image to RGB\n",
    "        rgb_frame = cv2.cvtColor(frame, cv2.COLOR_BGR2RGB)\n",
    "\n",
    "        # Detect faces in the frame\n",
    "        results = face_detection.process(rgb_frame)\n",
    "\n",
    "        if results.detections and results.multi_face_landmarks:\n",
    "            for i, detection in enumerate(results.detections):\n",
    "                bboxC = detection.location_data.relative_bounding_box\n",
    "                ih, iw, _ = frame.shape\n",
    "                bbox = int(bboxC.xmin * iw), int(bboxC.ymin * ih), \\\n",
    "                       int(bboxC.width * iw), int(bboxC.height * ih)\n",
    "\n",
    "                # Draw bounding box around the face\n",
    "                cv2.rectangle(frame, bbox, (0, 255, 0), 2)\n",
    "\n",
    "                # Extract landmarks\n",
    "                landmarks = [(lm.x * iw, lm.y * ih) for lm in results.multi_face_landmarks[i].landmark]\n",
    "\n",
    "                # Draw landmarks on the frame\n",
    "                for landmark in landmarks:\n",
    "                    cv2.circle(frame, (int(landmark[0]), int(landmark[1])), 2, (0, 0, 255), -1)\n",
    "\n",
    "                # Calculate stress level based on landmarks\n",
    "                stress = calculate_stress(np.array(landmarks))\n",
    "                stress_levels.append(stress)\n",
    "                print(f\"Face {i + 1} - Stress: {stress}\")\n",
    "\n",
    "        cv2.imshow('Frame', frame)\n",
    "\n",
    "        if cv2.waitKey(20) & 0xFF == ord('q'):\n",
    "            break\n",
    "\n",
    "    # Plot the stress levels over time\n",
    "    plt.plot(stress_levels)\n",
    "    plt.xlabel('Frame')\n",
    "    plt.ylabel('Stress Level')\n",
    "    plt.title('Stress Detection Over Time')\n",
    "    plt.show()\n",
    "\n",
    "    cap.release()\n",
    "    cv2.destroyAllWindows()\n",
    "\n",
    "# Example usage\n",
    "video_url = \"https://www.youtube.com/watch?v=dQw4w9WgXcQ\"\n",
    "save_path = \"C:/Users/Khadija/teststage\"\n",
    "download_video(video_url, save_path)\n",
    "stress_detection(save_path)\n"
   ]
  },
  {
   "cell_type": "code",
   "execution_count": 26,
   "id": "feb69ae6",
   "metadata": {
    "scrolled": true
   },
   "outputs": [
    {
     "data": {
      "image/png": "[encoded data removed]",
      "text/plain": [
       "<Figure size 432x288 with 1 Axes>"
      ]
     },
     "metadata": {
      "needs_background": "light"
     },
     "output_type": "display_data"
    }
   ],
   "source": [
    "import cv2\n",
    "import mediapipe as mp\n",
    "import numpy as np\n",
    "import matplotlib.pyplot as plt\n",
    "from pytube import YouTube\n",
    "\n",
    "# Function to download a video\n",
    "def download_video(url, save_path):\n",
    "    yt = YouTube(url)\n",
    "    yt.streams.filter(file_extension='mp4').first().download(save_path)\n",
    "\n",
    "# Function to calculate stress level based on facial landmarks\n",
    "def calculate_stress(landmarks):\n",
    "    # Calculate the average distance between all landmarks\n",
    "    distances = []\n",
    "    for i in range(len(landmarks)):\n",
    "        for j in range(i + 1, len(landmarks)):\n",
    "            distance = np.linalg.norm(landmarks[i] - landmarks[j])\n",
    "            distances.append(distance)\n",
    "    if len(distances) == 0:\n",
    "        return 0.0\n",
    "    avg_distance = sum(distances) / len(distances)\n",
    "    return avg_distance * 0.1  # Adjust the scaling factor as needed\n",
    "\n",
    "# Main function\n",
    "def stress_detection(video_path):\n",
    "    cap = cv2.VideoCapture(video_path)\n",
    "\n",
    "    mp_face = mp.solutions.face_detection\n",
    "    mp_drawing = mp.solutions.drawing_utils\n",
    "\n",
    "    face_detection = mp_face.FaceDetection(min_detection_confidence=0.3)\n",
    "\n",
    "    stress_levels = []\n",
    "\n",
    "    while True:\n",
    "        ret, frame = cap.read()\n",
    "        if not ret:\n",
    "            break\n",
    "\n",
    "        # Convert the BGR image to RGB\n",
    "        rgb_frame = cv2.cvtColor(frame, cv2.COLOR_BGR2RGB)\n",
    "\n",
    "        # Detect faces in the frame\n",
    "        results = face_detection.process(rgb_frame)\n",
    "\n",
    "        if results.detections and results.multi_face_landmarks:\n",
    "            for i, detection in enumerate(results.detections):\n",
    "                bboxC = detection.location_data.relative_bounding_box\n",
    "                ih, iw, _ = frame.shape\n",
    "                bbox = int(bboxC.xmin * iw), int(bboxC.ymin * ih), \\\n",
    "                       int(bboxC.width * iw), int(bboxC.height * ih)\n",
    "\n",
    "                # Extract landmarks\n",
    "                landmarks = [(lm.x * iw, lm.y * ih) for lm in results.multi_face_landmarks[i].landmark]\n",
    "\n",
    "                # Calculate stress level based on landmarks\n",
    "                stress = calculate_stress(np.array(landmarks))\n",
    "                stress_levels.append(stress)\n",
    "                print(f\"Face {i + 1} - Stress: {stress}\")\n",
    "\n",
    "        cv2.imshow('Frame', frame)\n",
    "\n",
    "        if cv2.waitKey(20) & 0xFF == ord('q'):\n",
    "            break\n",
    "\n",
    "    # Plot the stress levels over time\n",
    "    plt.plot(stress_levels)\n",
    "    plt.xlabel('Frame')\n",
    "    plt.ylabel('Stress Level')\n",
    "    plt.title('Stress Detection Over Time')\n",
    "    plt.show()\n",
    "\n",
    "    cap.release()\n",
    "    cv2.destroyAllWindows()\n",
    "\n",
    "# Example usage\n",
    "video_url = \"https://www.youtube.com/watch?v=dQw4w9WgXcQ\"\n",
    "save_path = \"C:/Users/Khadija/teststage\"\n",
    "download_video(video_url, save_path)\n",
    "stress_detection(save_path)"
   ]
  },
  {
   "cell_type": "code",
   "execution_count": 36,
   "id": "41639bda",
   "metadata": {},
   "outputs": [
    {
     "name": "stdout",
     "output_type": "stream",
     "text": [
      "Error: Could not open the video file at C:/Users/Khadija/OneDrive/Desktop/testt/video.mp4\n"
     ]
    }
   ],
   "source": [
    "import cv2\n",
    "import mediapipe as mp\n",
    "import numpy as np\n",
    "import matplotlib.pyplot as plt\n",
    "from pytube import YouTube\n",
    "import os\n",
    "\n",
    "# Function to download a video\n",
    "def download_video(url, save_path):\n",
    "    if os.path.exists(save_path):\n",
    "        os.remove(save_path)\n",
    "\n",
    "    yt = YouTube(url)\n",
    "    yt.streams.filter(file_extension='mp4').first().download(save_path)\n",
    "\n",
    "# Function to calculate stress level based on facial landmarks\n",
    "def calculate_stress(landmarks):\n",
    "    # You can customize this function based on your stress detection algorithm\n",
    "    # Example: Calculate stress based on the distance between specific facial landmarks\n",
    "    distance_between_eyes = np.linalg.norm(landmarks[0] - landmarks[1])\n",
    "    stress = distance_between_eyes * 0.1  # Placeholder algorithm, replace with your logic\n",
    "    return stress\n",
    "\n",
    "# Main function\n",
    "def stress_detection(video_path):\n",
    "    cap = cv2.VideoCapture()\n",
    "    if not cap.open(video_path):\n",
    "        print(f\"Error: Could not open the video file at {video_path}\")\n",
    "        return\n",
    "\n",
    "    mp_face = mp.solutions.face_detection\n",
    "    mp_drawing = mp.solutions.drawing_utils\n",
    "\n",
    "    face_detection = mp_face.FaceDetection(min_detection_confidence=0.3)\n",
    "\n",
    "    stress_levels = []\n",
    "\n",
    "    while True:\n",
    "        ret, frame = cap.read()\n",
    "        if not ret:\n",
    "            break\n",
    "\n",
    "        # Convert the BGR image to RGB\n",
    "        rgb_frame = cv2.cvtColor(frame, cv2.COLOR_BGR2RGB)\n",
    "\n",
    "        # Detect faces in the frame\n",
    "        results = face_detection.process(rgb_frame)\n",
    "\n",
    "        if results.detections and results.multi_face_landmarks:\n",
    "            for i, detection in enumerate(results.detections):\n",
    "                bboxC = detection.location_data.relative_bounding_box\n",
    "                ih, iw, _ = frame.shape\n",
    "                bbox = int(bboxC.xmin * iw), int(bboxC.ymin * ih), \\\n",
    "                       int(bboxC.width * iw), int(bboxC.height * ih)\n",
    "\n",
    "                # Draw bounding box around the face\n",
    "                cv2.rectangle(frame, bbox, (0, 255, 0), 2)\n",
    "\n",
    "                # Extract landmarks\n",
    "                landmarks = [(lm.x * iw, lm.y * ih) for lm in results.multi_face_landmarks[i].landmark]\n",
    "\n",
    "                # Draw landmarks on the frame\n",
    "                for landmark in landmarks:\n",
    "                    cv2.circle(frame, (int(landmark[0]), int(landmark[1])), 2, (0, 0, 255), -1)\n",
    "\n",
    "                # Calculate stress level based on landmarks\n",
    "                stress = calculate_stress(np.array(landmarks))\n",
    "                stress_levels.append(stress)\n",
    "                print(f\"Face {i + 1} - Stress: {stress}\")\n",
    "\n",
    "        cv2.imshow('Frame', frame)\n",
    "\n",
    "        if cv2.waitKey(20) & 0xFF == ord('q'):\n",
    "            break\n",
    "\n",
    "    if not stress_levels:\n",
    "        print(\"Error: No frames were processed.\")\n",
    "        cap.release()\n",
    "        cv2.destroyAllWindows()\n",
    "        return\n",
    "\n",
    "    # Plot the stress levels over time as a percentage\n",
    "    total_frames = len(stress_levels)\n",
    "    time_in_seconds = total_frames / cap.get(cv2.CAP_PROP_FPS)\n",
    "\n",
    "    # Convert frame index to time in seconds\n",
    "    time_points = np.linspace(0, time_in_seconds, total_frames)\n",
    "\n",
    "    # Convert stress levels to percentage\n",
    "    stress_percentage = np.array(stress_levels) / np.max(stress_levels) * 100\n",
    "\n",
    "    plt.plot(time_points, stress_percentage)\n",
    "    plt.xlabel('Time (seconds)')\n",
    "    plt.ylabel('Stress Level (%)')\n",
    "    plt.title('Stress Detection Over Time')\n",
    "    plt.show()\n",
    "\n",
    "    cap.release()\n",
    "    cv2.destroyAllWindows()\n",
    "\n",
    "# Example usage\n",
    "video_url = \"https://www.youtube.com/watch?v=dQw4w9WgXcQ\"\n",
    "save_path = \"C:/Users/Khadija/OneDrive/Desktop/testt/video.mp4\"\n",
    "download_video(video_url, save_path)\n",
    "stress_detection(save_path)\n"
   ]
  },
  {
   "cell_type": "code",
   "execution_count": 38,
   "id": "fc26d0c5",
   "metadata": {},
   "outputs": [
    {
     "name": "stdout",
     "output_type": "stream",
     "text": [
      "Error: Could not open the video file at C:/Users/Khadija/OneDrive/Desktop\\tmpdd_9svgp\\video.mp4\n"
     ]
    }
   ],
   "source": [
    "import os\n",
    "import tempfile\n",
    "temp_dir = tempfile.mkdtemp(dir=\"C:/Users/Khadija/OneDrive/Desktop\")\n",
    "save_path = os.path.join(temp_dir, \"video.mp4\")\n",
    "download_video(video_url, save_path)\n",
    "stress_detection(save_path)"
   ]
  },
  {
   "cell_type": "code",
   "execution_count": 33,
   "id": "1735c3d8",
   "metadata": {},
   "outputs": [],
   "source": [
    "import os"
   ]
  },
  {
   "cell_type": "code",
   "execution_count": 37,
   "id": "b824bd03",
   "metadata": {},
   "outputs": [
    {
     "name": "stdout",
     "output_type": "stream",
     "text": [
      "Video path: C:/Users/Khadija/OneDrive/Desktop/testt/video.mp4\n",
      "File exists: True\n",
      "Error: Could not open the video file at C:/Users/Khadija/OneDrive/Desktop/testt/video.mp4\n"
     ]
    }
   ],
   "source": [
    "video_path = \"C:/Users/Khadija/OneDrive/Desktop/testt/video.mp4\"\n",
    "print(f\"Video path: {video_path}\")\n",
    "print(f\"File exists: {os.path.exists(video_path)}\")\n",
    "stress_detection(video_path)"
   ]
  },
  {
   "cell_type": "markdown",
   "id": "9b0c6905",
   "metadata": {},
   "source": [
    "# face recognition Library"
   ]
  },
  {
   "cell_type": "code",
   "execution_count": 16,
   "id": "11f15e3a",
   "metadata": {},
   "outputs": [
    {
     "name": "stdout",
     "output_type": "stream",
     "text": [
      "Requirement already satisfied: boost in c:\\users\\khadija\\anaconda\\lib\\site-packages (0.1)\n",
      "Requirement already satisfied: Mastodon.py in c:\\users\\khadija\\anaconda\\lib\\site-packages (from boost) (1.8.1)\n",
      "Requirement already satisfied: sqlalchemy in c:\\users\\khadija\\anaconda\\lib\\site-packages (from boost) (1.4.22)\n",
      "Requirement already satisfied: decorator>=4.0.0 in c:\\users\\khadija\\anaconda\\lib\\site-packages (from Mastodon.py->boost) (5.1.0)\n",
      "Requirement already satisfied: six in c:\\users\\khadija\\anaconda\\lib\\site-packages (from Mastodon.py->boost) (1.16.0)\n",
      "Requirement already satisfied: python-magic-bin in c:\\users\\khadija\\anaconda\\lib\\site-packages (from Mastodon.py->boost) (0.4.14)\n",
      "Requirement already satisfied: blurhash>=1.1.4 in c:\\users\\khadija\\anaconda\\lib\\site-packages (from Mastodon.py->boost) (1.1.4)\n",
      "Requirement already satisfied: python-dateutil in c:\\users\\khadija\\anaconda\\lib\\site-packages (from Mastodon.py->boost) (2.8.2)\n",
      "Requirement already satisfied: requests>=2.4.2 in c:\\users\\khadija\\anaconda\\lib\\site-packages (from Mastodon.py->boost) (2.26.0)\n",
      "Requirement already satisfied: urllib3<1.27,>=1.21.1 in c:\\users\\khadija\\anaconda\\lib\\site-packages (from requests>=2.4.2->Mastodon.py->boost) (1.26.7)\n",
      "Requirement already satisfied: idna<4,>=2.5 in c:\\users\\khadija\\anaconda\\lib\\site-packages (from requests>=2.4.2->Mastodon.py->boost) (3.2)\n",
      "Requirement already satisfied: charset-normalizer~=2.0.0 in c:\\users\\khadija\\anaconda\\lib\\site-packages (from requests>=2.4.2->Mastodon.py->boost) (2.0.4)\n",
      "Requirement already satisfied: certifi>=2017.4.17 in c:\\users\\khadija\\anaconda\\lib\\site-packages (from requests>=2.4.2->Mastodon.py->boost) (2021.10.8)\n",
      "Requirement already satisfied: greenlet!=0.4.17 in c:\\users\\khadija\\anaconda\\lib\\site-packages (from sqlalchemy->boost) (1.1.1)\n",
      "Note: you may need to restart the kernel to use updated packages.\n"
     ]
    },
    {
     "name": "stderr",
     "output_type": "stream",
     "text": [
      "WARNING: Ignoring invalid distribution -rotobuf (c:\\users\\khadija\\appdata\\roaming\\python\\python39\\site-packages)\n",
      "WARNING: Ignoring invalid distribution -rotobuf (c:\\users\\khadija\\appdata\\roaming\\python\\python39\\site-packages)\n",
      "WARNING: Ignoring invalid distribution -rotobuf (c:\\users\\khadija\\appdata\\roaming\\python\\python39\\site-packages)\n",
      "WARNING: Ignoring invalid distribution -rotobuf (c:\\users\\khadija\\appdata\\roaming\\python\\python39\\site-packages)\n",
      "WARNING: Ignoring invalid distribution -rotobuf (c:\\users\\khadija\\appdata\\roaming\\python\\python39\\site-packages)\n",
      "WARNING: Ignoring invalid distribution -rotobuf (c:\\users\\khadija\\appdata\\roaming\\python\\python39\\site-packages)\n"
     ]
    }
   ],
   "source": [
    "pip install boost"
   ]
  },
  {
   "cell_type": "code",
   "execution_count": 17,
   "id": "19815935",
   "metadata": {},
   "outputs": [
    {
     "name": "stdout",
     "output_type": "stream",
     "text": [
      "Collecting face_recognition\n",
      "  Using cached face_recognition-1.3.0-py2.py3-none-any.whl (15 kB)\n",
      "Collecting dlib>=19.7\n",
      "  Using cached dlib-19.24.2.tar.gz (11.8 MB)\n",
      "  Installing build dependencies: started\n",
      "  Installing build dependencies: finished with status 'done'\n",
      "  Getting requirements to build wheel: started\n",
      "  Getting requirements to build wheel: finished with status 'done'\n",
      "    Preparing wheel metadata: started\n",
      "    Preparing wheel metadata: finished with status 'done'\n",
      "Requirement already satisfied: Click>=6.0 in c:\\users\\khadija\\anaconda\\lib\\site-packages (from face_recognition) (8.0.3)\n",
      "Requirement already satisfied: numpy in c:\\users\\khadija\\anaconda\\lib\\site-packages (from face_recognition) (1.26.2)\n",
      "Collecting face-recognition-models>=0.3.0\n",
      "  Using cached face_recognition_models-0.3.0-py2.py3-none-any.whl\n",
      "Requirement already satisfied: Pillow in c:\\users\\khadija\\anaconda\\lib\\site-packages (from face_recognition) (10.0.1)\n",
      "Requirement already satisfied: colorama in c:\\users\\khadija\\anaconda\\lib\\site-packages (from Click>=6.0->face_recognition) (0.4.4)\n",
      "Building wheels for collected packages: dlib\n",
      "  Building wheel for dlib (PEP 517): started\n",
      "  Building wheel for dlib (PEP 517): finished with status 'error'\n",
      "Failed to build dlib\n",
      "Note: you may need to restart the kernel to use updated packages.\n"
     ]
    },
    {
     "name": "stderr",
     "output_type": "stream",
     "text": [
      "WARNING: Ignoring invalid distribution -rotobuf (c:\\users\\khadija\\appdata\\roaming\\python\\python39\\site-packages)\n",
      "WARNING: Ignoring invalid distribution -rotobuf (c:\\users\\khadija\\appdata\\roaming\\python\\python39\\site-packages)\n",
      "  ERROR: Command errored out with exit status 1:\n",
      "   command: 'C:\\Users\\Khadija\\anaconda\\python.exe' 'C:\\Users\\Khadija\\anaconda\\lib\\site-packages\\pip\\_vendor\\pep517\\in_process\\_in_process.py' build_wheel 'C:\\Users\\Khadija\\AppData\\Local\\Temp\\tmpl9oqicsj'\n",
      "       cwd: C:\\Users\\Khadija\\AppData\\Local\\Temp\\pip-install-4v07en55\\dlib_f7b5159a647741649f91ab92f8bdf342\n",
      "  Complete output (73 lines):\n",
      "  running bdist_wheel\n",
      "  running build\n",
      "  running build_ext\n",
      "  <string>:125: DeprecationWarning: distutils Version classes are deprecated. Use packaging.version instead.\n",
      "  Building extension for Python 3.9.7 (default, Sep 16 2021, 16:59:28) [MSC v.1916 64 bit (AMD64)]\n",
      "  Invoking CMake setup: 'cmake C:\\Users\\Khadija\\AppData\\Local\\Temp\\pip-install-4v07en55\\dlib_f7b5159a647741649f91ab92f8bdf342\\tools\\python -DCMAKE_LIBRARY_OUTPUT_DIRECTORY=C:\\Users\\Khadija\\AppData\\Local\\Temp\\pip-install-4v07en55\\dlib_f7b5159a647741649f91ab92f8bdf342\\build\\lib.win-amd64-cpython-39 -DPYTHON_EXECUTABLE=C:\\Users\\Khadija\\anaconda\\python.exe -DCMAKE_LIBRARY_OUTPUT_DIRECTORY_RELEASE=C:\\Users\\Khadija\\AppData\\Local\\Temp\\pip-install-4v07en55\\dlib_f7b5159a647741649f91ab92f8bdf342\\build\\lib.win-amd64-cpython-39 -A x64'\n",
      "  -- Building for: NMake Makefiles\n",
      "  CMake Error at CMakeLists.txt:5 (message):\n",
      "  \n",
      "  \n",
      "  \n",
      "    !!!!!!!!!!!!!!!!!!!!!!!!!!!!!!!!!!!!!!!!!!!!!!!!!!!!!!!!!!!!!!!!!!!!!!!!!!!!!!!\n",
      "  \n",
      "  \n",
      "    You must use Visual Studio to build a python extension on windows.  If you\n",
      "    are getting this error it means you have not installed Visual C++.  Note\n",
      "    that there are many flavors of Visual Studio, like Visual Studio for C#\n",
      "    development.  You need to install Visual Studio for C++.\n",
      "  \n",
      "  \n",
      "    !!!!!!!!!!!!!!!!!!!!!!!!!!!!!!!!!!!!!!!!!!!!!!!!!!!!!!!!!!!!!!!!!!!!!!!!!!!!!!!\n",
      "  \n",
      "  \n",
      "  \n",
      "  \n",
      "  -- Configuring incomplete, errors occurred!\n",
      "  Traceback (most recent call last):\n",
      "    File \"C:\\Users\\Khadija\\anaconda\\lib\\site-packages\\pip\\_vendor\\pep517\\in_process\\_in_process.py\", line 349, in <module>\n",
      "      main()\n",
      "    File \"C:\\Users\\Khadija\\anaconda\\lib\\site-packages\\pip\\_vendor\\pep517\\in_process\\_in_process.py\", line 331, in main\n",
      "      json_out['return_val'] = hook(**hook_input['kwargs'])\n",
      "    File \"C:\\Users\\Khadija\\anaconda\\lib\\site-packages\\pip\\_vendor\\pep517\\in_process\\_in_process.py\", line 248, in build_wheel\n",
      "      return _build_backend().build_wheel(wheel_directory, config_settings,\n",
      "    File \"C:\\Users\\Khadija\\AppData\\Local\\Temp\\pip-build-env-8bcuj9p5\\overlay\\Lib\\site-packages\\setuptools\\build_meta.py\", line 404, in build_wheel\n",
      "      return self._build_with_temp_dir(\n",
      "    File \"C:\\Users\\Khadija\\AppData\\Local\\Temp\\pip-build-env-8bcuj9p5\\overlay\\Lib\\site-packages\\setuptools\\build_meta.py\", line 389, in _build_with_temp_dir\n",
      "      self.run_setup()\n",
      "    File \"C:\\Users\\Khadija\\AppData\\Local\\Temp\\pip-build-env-8bcuj9p5\\overlay\\Lib\\site-packages\\setuptools\\build_meta.py\", line 311, in run_setup\n",
      "      exec(code, locals())\n",
      "    File \"<string>\", line 218, in <module>\n",
      "    File \"C:\\Users\\Khadija\\AppData\\Local\\Temp\\pip-build-env-8bcuj9p5\\overlay\\Lib\\site-packages\\setuptools\\__init__.py\", line 103, in setup\n",
      "      return distutils.core.setup(**attrs)\n",
      "    File \"C:\\Users\\Khadija\\AppData\\Local\\Temp\\pip-build-env-8bcuj9p5\\overlay\\Lib\\site-packages\\setuptools\\_distutils\\core.py\", line 185, in setup\n",
      "      return run_commands(dist)\n",
      "    File \"C:\\Users\\Khadija\\AppData\\Local\\Temp\\pip-build-env-8bcuj9p5\\overlay\\Lib\\site-packages\\setuptools\\_distutils\\core.py\", line 201, in run_commands\n",
      "      dist.run_commands()\n",
      "    File \"C:\\Users\\Khadija\\AppData\\Local\\Temp\\pip-build-env-8bcuj9p5\\overlay\\Lib\\site-packages\\setuptools\\_distutils\\dist.py\", line 969, in run_commands\n",
      "      self.run_command(cmd)\n",
      "    File \"C:\\Users\\Khadija\\AppData\\Local\\Temp\\pip-build-env-8bcuj9p5\\overlay\\Lib\\site-packages\\setuptools\\dist.py\", line 963, in run_command\n",
      "      super().run_command(command)\n",
      "    File \"C:\\Users\\Khadija\\AppData\\Local\\Temp\\pip-build-env-8bcuj9p5\\overlay\\Lib\\site-packages\\setuptools\\_distutils\\dist.py\", line 988, in run_command\n",
      "      cmd_obj.run()\n",
      "    File \"C:\\Users\\Khadija\\AppData\\Local\\Temp\\pip-build-env-8bcuj9p5\\overlay\\Lib\\site-packages\\wheel\\bdist_wheel.py\", line 368, in run\n",
      "      self.run_command(\"build\")\n",
      "    File \"C:\\Users\\Khadija\\AppData\\Local\\Temp\\pip-build-env-8bcuj9p5\\overlay\\Lib\\site-packages\\setuptools\\_distutils\\cmd.py\", line 318, in run_command\n",
      "      self.distribution.run_command(command)\n",
      "    File \"C:\\Users\\Khadija\\AppData\\Local\\Temp\\pip-build-env-8bcuj9p5\\overlay\\Lib\\site-packages\\setuptools\\dist.py\", line 963, in run_command\n",
      "      super().run_command(command)\n",
      "    File \"C:\\Users\\Khadija\\AppData\\Local\\Temp\\pip-build-env-8bcuj9p5\\overlay\\Lib\\site-packages\\setuptools\\_distutils\\dist.py\", line 988, in run_command\n",
      "      cmd_obj.run()\n",
      "    File \"C:\\Users\\Khadija\\AppData\\Local\\Temp\\pip-build-env-8bcuj9p5\\overlay\\Lib\\site-packages\\setuptools\\_distutils\\command\\build.py\", line 131, in run\n",
      "      self.run_command(cmd_name)\n",
      "    File \"C:\\Users\\Khadija\\AppData\\Local\\Temp\\pip-build-env-8bcuj9p5\\overlay\\Lib\\site-packages\\setuptools\\_distutils\\cmd.py\", line 318, in run_command\n",
      "      self.distribution.run_command(command)\n",
      "    File \"C:\\Users\\Khadija\\AppData\\Local\\Temp\\pip-build-env-8bcuj9p5\\overlay\\Lib\\site-packages\\setuptools\\dist.py\", line 963, in run_command\n",
      "      super().run_command(command)\n",
      "    File \"C:\\Users\\Khadija\\AppData\\Local\\Temp\\pip-build-env-8bcuj9p5\\overlay\\Lib\\site-packages\\setuptools\\_distutils\\dist.py\", line 988, in run_command\n",
      "      cmd_obj.run()\n",
      "    File \"<string>\", line 130, in run\n",
      "    File \"<string>\", line 167, in build_extension\n",
      "    File \"C:\\Users\\Khadija\\anaconda\\lib\\subprocess.py\", line 373, in check_call\n",
      "      raise CalledProcessError(retcode, cmd)\n",
      "  subprocess.CalledProcessError: Command '['cmake', 'C:\\\\Users\\\\Khadija\\\\AppData\\\\Local\\\\Temp\\\\pip-install-4v07en55\\\\dlib_f7b5159a647741649f91ab92f8bdf342\\\\tools\\\\python', '-DCMAKE_LIBRARY_OUTPUT_DIRECTORY=C:\\\\Users\\\\Khadija\\\\AppData\\\\Local\\\\Temp\\\\pip-install-4v07en55\\\\dlib_f7b5159a647741649f91ab92f8bdf342\\\\build\\\\lib.win-amd64-cpython-39', '-DPYTHON_EXECUTABLE=C:\\\\Users\\\\Khadija\\\\anaconda\\\\python.exe', '-DCMAKE_LIBRARY_OUTPUT_DIRECTORY_RELEASE=C:\\\\Users\\\\Khadija\\\\AppData\\\\Local\\\\Temp\\\\pip-install-4v07en55\\\\dlib_f7b5159a647741649f91ab92f8bdf342\\\\build\\\\lib.win-amd64-cpython-39', '-A', 'x64']' returned non-zero exit status 1.\n",
      "  ----------------------------------------\n",
      "  ERROR: Failed building wheel for dlib\n",
      "ERROR: Could not build wheels for dlib which use PEP 517 and cannot be installed directly\n",
      "WARNING: Ignoring invalid distribution -rotobuf (c:\\users\\khadija\\appdata\\roaming\\python\\python39\\site-packages)\n",
      "WARNING: Ignoring invalid distribution -rotobuf (c:\\users\\khadija\\appdata\\roaming\\python\\python39\\site-packages)\n",
      "WARNING: Ignoring invalid distribution -rotobuf (c:\\users\\khadija\\appdata\\roaming\\python\\python39\\site-packages)\n"
     ]
    }
   ],
   "source": [
    "pip install face_recognition"
   ]
  },
  {
   "cell_type": "code",
   "execution_count": 18,
   "id": "d816e601",
   "metadata": {},
   "outputs": [
    {
     "ename": "ModuleNotFoundError",
     "evalue": "No module named 'face_recognition'",
     "output_type": "error",
     "traceback": [
      "\u001b[1;31m---------------------------------------------------------------------------\u001b[0m",
      "\u001b[1;31mModuleNotFoundError\u001b[0m                       Traceback (most recent call last)",
      "\u001b[1;32m~\\AppData\\Local\\Temp/ipykernel_9888/3848524337.py\u001b[0m in \u001b[0;36m<module>\u001b[1;34m\u001b[0m\n\u001b[0;32m      1\u001b[0m \u001b[1;32mimport\u001b[0m \u001b[0mcv2\u001b[0m\u001b[1;33m\u001b[0m\u001b[1;33m\u001b[0m\u001b[0m\n\u001b[1;32m----> 2\u001b[1;33m \u001b[1;32mimport\u001b[0m \u001b[0mface_recognition\u001b[0m\u001b[1;33m\u001b[0m\u001b[1;33m\u001b[0m\u001b[0m\n\u001b[0m\u001b[0;32m      3\u001b[0m \u001b[1;32mimport\u001b[0m \u001b[0mnumpy\u001b[0m \u001b[1;32mas\u001b[0m \u001b[0mnp\u001b[0m\u001b[1;33m\u001b[0m\u001b[1;33m\u001b[0m\u001b[0m\n\u001b[0;32m      4\u001b[0m \u001b[1;32mimport\u001b[0m \u001b[0mmatplotlib\u001b[0m\u001b[1;33m.\u001b[0m\u001b[0mpyplot\u001b[0m \u001b[1;32mas\u001b[0m \u001b[0mplt\u001b[0m\u001b[1;33m\u001b[0m\u001b[1;33m\u001b[0m\u001b[0m\n\u001b[0;32m      5\u001b[0m \u001b[1;33m\u001b[0m\u001b[0m\n",
      "\u001b[1;31mModuleNotFoundError\u001b[0m: No module named 'face_recognition'"
     ]
    }
   ],
   "source": [
    "import cv2\n",
    "import face_recognition\n",
    "import numpy as np\n",
    "import matplotlib.pyplot as plt\n",
    "\n",
    "# Function to calculate stress level based on facial landmarks\n",
    "def calculate_stress(landmarks):\n",
    "    # You can customize this function based on your stress detection algorithm\n",
    "    # Example: Calculate stress based on the distance between specific facial landmarks\n",
    "    distance_between_eyes = np.linalg.norm(landmarks['left_eye'][0] - landmarks['right_eye'][3])\n",
    "    stress = distance_between_eyes * 0.1  # Placeholder algorithm, replace with your logic\n",
    "    return stress\n",
    "\n",
    "# Main function\n",
    "def stress_detection(video_path):\n",
    "    cap = cv2.VideoCapture(video_path)\n",
    "\n",
    "    stress_levels = []\n",
    "\n",
    "    while True:\n",
    "        ret, frame = cap.read()\n",
    "        if not ret:\n",
    "            break\n",
    "\n",
    "        # Find all face landmarks in the current frame\n",
    "        face_landmarks_list = face_recognition.face_landmarks(frame)\n",
    "\n",
    "        for face_landmarks in face_landmarks_list:\n",
    "            # Draw landmarks on the frame\n",
    "            for landmark_type, landmarks in face_landmarks.items():\n",
    "                for landmark in landmarks:\n",
    "                    cv2.circle(frame, landmark, 2, (0, 0, 255), -1)\n",
    "\n",
    "            # Calculate stress level based on landmarks\n",
    "            stress = calculate_stress(face_landmarks)\n",
    "            stress_levels.append(stress)\n",
    "\n",
    "        cv2.imshow('Frame', frame)\n",
    "\n",
    "        if cv2.waitKey(20) & 0xFF == ord('q'):\n",
    "            break\n",
    "\n",
    "    # Plot the stress levels over time\n",
    "    plt.plot(stress_levels)\n",
    "    plt.xlabel('Frame')\n",
    "    plt.ylabel('Stress Level')\n",
    "    plt.title('Stress Detection Over Time')\n",
    "    plt.show()\n",
    "\n",
    "    cap.release()\n",
    "    cv2.destroyAllWindows()\n",
    "\n",
    "stress_detection(save_path)"
   ]
  },
  {
   "cell_type": "code",
   "execution_count": null,
   "id": "16b0ab6e",
   "metadata": {},
   "outputs": [],
   "source": []
  }
 ],
 "metadata": {
  "kernelspec": {
   "display_name": "Python 3 (ipykernel)",
   "language": "python",
   "name": "python3"
  },
  "language_info": {
   "codemirror_mode": {
    "name": "ipython",
    "version": 3
   },
   "file_extension": ".py",
   "mimetype": "text/x-python",
   "name": "python",
   "nbconvert_exporter": "python",
   "pygments_lexer": "ipython3",
   "version": "3.9.7"
  }
 },
 "nbformat": 4,
 "nbformat_minor": 5
}
